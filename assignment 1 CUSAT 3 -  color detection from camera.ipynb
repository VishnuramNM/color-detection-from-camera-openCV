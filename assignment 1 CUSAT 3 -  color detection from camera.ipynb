{
 "cells": [
  {
   "cell_type": "code",
   "execution_count": 1,
   "id": "dbe279e7",
   "metadata": {},
   "outputs": [],
   "source": [
    "import numpy as np\n",
    "import pandas as pd\n",
    "import cv2\n",
    "import imutils"
   ]
  },
  {
   "cell_type": "code",
   "execution_count": null,
   "id": "3ad0b0d4",
   "metadata": {},
   "outputs": [],
   "source": [
    "camera = cv2.VideoCapture(0)\n",
    "\n",
    "r = g = b = xpos = ypos = 0\n",
    "\n",
    "index = ['color', 'color_name', 'hex', 'R', 'G', 'B']\n",
    "df = pd.read_csv(\"C:/Users/HP/Desktop/MTECH CUSAT/assignment 1/colors.csv\", names = index, header = None)\n",
    "\n",
    "\n",
    "def getColorName(R,G,B):\n",
    "    minimum = 10000\n",
    "    for i in range(len(df)):\n",
    "        d = abs(R - int(df.loc[i,\"R\"])) + abs(G - int(df.loc[i,\"G\"])) + abs(B - int(df.loc[i,\"B\"]))\n",
    "        if (d <= minimum):\n",
    "            minimum = d\n",
    "            cname = df.loc[i, 'color_name']\n",
    "    return cname\n",
    "\n",
    "\n",
    "def identify_color(event, x, y, flags, param):\n",
    "    global b, g, r, xpos, ypos, clicked\n",
    "    xpos = x\n",
    "    ypos = y\n",
    "    b, g, r = frame[y,x]\n",
    "    b = int(b)\n",
    "    g = int(g)\n",
    "    r = int(r)\n",
    "\n",
    "\n",
    "cv2.namedWindow('image')\n",
    "cv2.setMouseCallback('image', identify_color)\n",
    "\n",
    "while True:\n",
    "    (grabbed, frame) = camera.read()\n",
    "    frame = imutils.resize(frame, width=900)\n",
    "    kernal = np.ones((5, 5), \"uint8\")\n",
    "    cv2.rectangle(frame, (20,20), (800, 60),(b,g,r), -1)    \n",
    "    text = getColorName(b,g,r) + '   R=' + str(r) + ' G=' + str(g) + ' B=' + str(b)\n",
    "    cv2.putText(frame,text, (50,50),2, 0.8, (255,255,255),2,cv2.LINE_AA)\n",
    "\n",
    "    if(r+g+b >= 600):\n",
    "        cv2.putText(frame,text,(50,50), 2, 0.8, (0,0,0),2,cv2.LINE_AA)   \n",
    "\n",
    "    cv2.imshow('image',frame)\n",
    "\n",
    "    if cv2.waitKey(20) & 0xFF == 27:\n",
    "        break\n",
    "\n",
    "camera.release()\n",
    "cv2.destroyAllWindows()"
   ]
  },
  {
   "cell_type": "code",
   "execution_count": null,
   "id": "d224ff1c",
   "metadata": {},
   "outputs": [],
   "source": []
  }
 ],
 "metadata": {
  "kernelspec": {
   "display_name": "Python 3 (ipykernel)",
   "language": "python",
   "name": "python3"
  },
  "language_info": {
   "codemirror_mode": {
    "name": "ipython",
    "version": 3
   },
   "file_extension": ".py",
   "mimetype": "text/x-python",
   "name": "python",
   "nbconvert_exporter": "python",
   "pygments_lexer": "ipython3",
   "version": "3.10.9"
  }
 },
 "nbformat": 4,
 "nbformat_minor": 5
}
